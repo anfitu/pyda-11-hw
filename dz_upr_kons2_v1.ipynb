{
 "cells": [
  {
   "cell_type": "code",
   "execution_count": 1,
   "metadata": {},
   "outputs": [
    {
     "name": "stdout",
     "output_type": "stream",
     "text": [
      "{'visit1': ['Москва', 'Россия']}\n",
      "{'visit3': ['Владимир', 'Россия']}\n",
      "{'visit7': ['Тула', 'Россия']}\n",
      "{'visit8': ['Тула', 'Россия']}\n",
      "{'visit9': ['Курск', 'Россия']}\n",
      "{'visit10': ['Архангельск', 'Россия']}\n"
     ]
    }
   ],
   "source": [
    "# Задача 1\n",
    "\n",
    "geo_logs = [\n",
    "    {'visit1': ['Москва', 'Россия']},\n",
    "    {'visit2': ['Дели', 'Индия']},\n",
    "    {'visit3': ['Владимир', 'Россия']},\n",
    "    {'visit4': ['Лиссабон', 'Португалия']},\n",
    "    {'visit5': ['Париж', 'Франция']},\n",
    "    {'visit6': ['Лиссабон', 'Португалия']},\n",
    "    {'visit7': ['Тула', 'Россия']},\n",
    "    {'visit8': ['Тула', 'Россия']},\n",
    "    {'visit9': ['Курск', 'Россия']},\n",
    "    {'visit10': ['Архангельск', 'Россия']}\n",
    "]\n",
    "for visits in geo_logs:\n",
    "    for cities in visits.values():\n",
    "        if cities[1] == 'Россия':\n",
    "            print(visits)"
   ]
  },
  {
   "cell_type": "code",
   "execution_count": 14,
   "metadata": {},
   "outputs": [
    {
     "name": "stdout",
     "output_type": "stream",
     "text": [
      "[213, 15, 54, 119, 98, 35, 213]\n"
     ]
    }
   ],
   "source": [
    "# Задача 2\n",
    "\n",
    "ids = {'user1': [213, 213, 213, 15, 213], \n",
    "       'user2': [54, 54, 119, 119, 119], \n",
    "       'user3': [213, 98, 98, 35]}\n",
    "id_stream = list()\n",
    "for users in ids.values():\n",
    "    idents = list(set(users))\n",
    "    id_stream.extend(idents)\n",
    "print(id_stream)\n",
    "\n",
    "                                      # Почему в результате дублируется значение \"213\"?"
   ]
  },
  {
   "cell_type": "code",
   "execution_count": 86,
   "metadata": {},
   "outputs": [
    {
     "name": "stdout",
     "output_type": "stream",
     "text": [
      "43 57\n"
     ]
    }
   ],
   "source": [
    "# Задача 3\n",
    "\n",
    "queries = [\n",
    "    'смотреть сериалы онлайн',\n",
    "    'новости спорта',\n",
    "    'афиша кино',\n",
    "    'курс доллара',\n",
    "    'сериалы этим летом',\n",
    "    'курс по питону',\n",
    "    'сериалы про спорт',\n",
    "]\n",
    "worlds = list()\n",
    "for search in queries:\n",
    "    g = search.split(' ')            # делаем список из слов, которые делятся пробелами\n",
    "    worlds.append(g)\n",
    "\n",
    "length = len(worlds)                 # общее количество всех запросов\n",
    "\n",
    "length_row = list()\n",
    "for row in worlds:\n",
    "    length_ro = len(row)             # количество слов в каждом запросе\n",
    "    length_row.append(length_ro)     # список n слов в каждом запросе\n",
    "\n",
    "percent_2 = round(length_row.count(2) / length * 100)\n",
    "percent_3 = round(length_row.count(3) / length * 100)\n",
    "\n",
    "print(percent_2, percent_3)\n"
   ]
  },
  {
   "cell_type": "code",
   "execution_count": 79,
   "metadata": {},
   "outputs": [
    {
     "name": "stdout",
     "output_type": "stream",
     "text": [
      "120\n",
      "120\n"
     ]
    }
   ],
   "source": [
    "# Задача 4 КАК ВЫВЕСТИ КЛЮЧ, А НЕ ЗНАЧЕНИЕ \n",
    "\n",
    "stats = {'facebook': 55, 'yandex': 120, 'vk': 115, 'google': 99, 'email': 42, 'ok': 98}\n",
    "\n",
    "numbers = list()\n",
    "for network in stats.values():\n",
    "    numbers.append(network)\n",
    "max_number = max(numbers)\n",
    "print(max_number)\n",
    "for x in stats.values():\n",
    "    if max_number in [x]:\n",
    "        print(x)"
   ]
  },
  {
   "cell_type": "code",
   "execution_count": 81,
   "metadata": {},
   "outputs": [
    {
     "name": "stdout",
     "output_type": "stream",
     "text": [
      "{'yandex': 120}\n"
     ]
    }
   ],
   "source": [
    "# Задача 4\n",
    "\n",
    "stats = {'facebook': 55, 'yandex': 120, 'vk': 115, 'google': 99, 'email': 42, 'ok': 98}\n",
    "\n",
    "numbers = list()\n",
    "for network in stats.values():\n",
    "    numbers.append(network)\n",
    "max_number = max(numbers)\n",
    "\n",
    "new_stats = {k: v for k, v in stats.items() if v == max_number} # Подсмотрено на просторах интернета. \n",
    "                                                                # Объясните, пожалуйста, как можно было сделать это же, \n",
    "                                                                # но через \"if\"\n",
    "print(new_stats)"
   ]
  },
  {
   "cell_type": "code",
   "execution_count": 82,
   "metadata": {},
   "outputs": [
    {
     "name": "stdout",
     "output_type": "stream",
     "text": [
      "100\n"
     ]
    }
   ],
   "source": [
    "# Задача 5\n",
    "\n",
    "stream = ['2018-01-01', 'yandex', 'cpc', 100]\n",
    "number_z = len(stream) - 1\n",
    "print(stream[number_z])"
   ]
  }
 ],
 "metadata": {
  "kernelspec": {
   "display_name": "Python 3",
   "language": "python",
   "name": "python3"
  },
  "language_info": {
   "codemirror_mode": {
    "name": "ipython",
    "version": 3
   },
   "file_extension": ".py",
   "mimetype": "text/x-python",
   "name": "python",
   "nbconvert_exporter": "python",
   "pygments_lexer": "ipython3",
   "version": "3.7.6"
  }
 },
 "nbformat": 4,
 "nbformat_minor": 4
}
