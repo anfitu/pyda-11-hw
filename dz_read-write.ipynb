{
 "cells": [
  {
   "cell_type": "code",
   "execution_count": 5,
   "metadata": {},
   "outputs": [
    {
     "name": "stdout",
     "output_type": "stream",
     "text": [
      "{'1840e0b9d4': 'Продукты', '4e4f90fcfb': 'Электроника', 'afea8d72fc': 'Электроника', '373a6055fe': 'Бытовая техника', '9b2ab046f3': 'Электроника'}\n"
     ]
    }
   ],
   "source": [
    "# Переведите содержимое файла purchase_log.txt в словарь purchases вида:\n",
    "\n",
    "# {'1840e0b9d4': 'Продукты', ...}\n",
    "\n",
    "q = open('C:\\\\Users\\\\Professional\\\\Desktop\\\\purchase_log.txt', encoding = 'utf-8')\n",
    "import json\n",
    "d = {}\n",
    "q_dict = {}\n",
    "for i, line in enumerate(q):\n",
    "    if i > 0 and i < 6:\n",
    "        t = json.loads(line)\n",
    "        line = line.strip()\n",
    "        q_dict = {t['user_id']: t['category']}\n",
    "        for x,y in q_dict.items():\n",
    "            d[x] = y\n",
    "print(d)\n",
    "\n",
    "q.close()\n",
    "    "
   ]
  },
  {
   "cell_type": "code",
   "execution_count": 6,
   "metadata": {},
   "outputs": [],
   "source": [
    "import json\n",
    "d1 = {}\n",
    "q1_dict = {}\n",
    "q1 = open('C:\\\\Users\\\\Professional\\\\Desktop\\\\purchase_log.txt', encoding = 'utf-8')\n",
    "\n",
    "for i, line in enumerate(q1):\n",
    "    if i > 0:\n",
    "        t = json.loads(line)\n",
    "        line = line.strip()\n",
    "        q1_dict = {t['user_id']: t['category']}\n",
    "        for x,y in q1_dict.items():\n",
    "            d1[x] = y\n"
   ]
  },
  {
   "cell_type": "code",
   "execution_count": 16,
   "metadata": {},
   "outputs": [
    {
     "data": {
      "text/plain": [
       "8909671"
      ]
     },
     "execution_count": 16,
     "metadata": {},
     "output_type": "execute_result"
    }
   ],
   "source": [
    "s = open('C:\\\\Users\\\\Professional\\\\Desktop\\\\visit_log.csv', 'r', encoding = 'utf-8')\n",
    "v = open('C:\\\\Users\\\\Professional\\\\Desktop\\\\funnel5.csv','w')\n",
    "for line in s:\n",
    "    l = line.split(',')\n",
    "    if l[0] in d1:\n",
    "        l.append(d1[l[0]])\n",
    "v.write(json.dumps(d1))\n",
    "\n",
    "\n",
    "    "
   ]
  }
 ],
 "metadata": {
  "kernelspec": {
   "display_name": "Python 3",
   "language": "python",
   "name": "python3"
  },
  "language_info": {
   "codemirror_mode": {
    "name": "ipython",
    "version": 3
   },
   "file_extension": ".py",
   "mimetype": "text/x-python",
   "name": "python",
   "nbconvert_exporter": "python",
   "pygments_lexer": "ipython3",
   "version": "3.7.6"
  }
 },
 "nbformat": 4,
 "nbformat_minor": 4
}
