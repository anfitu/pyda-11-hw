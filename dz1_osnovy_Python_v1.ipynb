{
 "cells": [
  {
   "cell_type": "code",
   "execution_count": 4,
   "metadata": {},
   "outputs": [
    {
     "data": {
      "text/plain": [
       "True"
      ]
     },
     "execution_count": 4,
     "metadata": {},
     "output_type": "execute_result"
    }
   ],
   "source": [
    "# Задание 1. \n",
    "long_phrase = 'Насколько проще было бы писать программы, если бы не заказчики'\n",
    "short_phrase = '640Кб должно хватить для любых задач. Билл Гейтс (по легенде)'\n",
    "len(long_phrase)>len(short_phrase)"
   ]
  },
  {
   "cell_type": "code",
   "execution_count": 20,
   "metadata": {},
   "outputs": [
    {
     "name": "stdout",
     "output_type": "stream",
     "text": [
      "Объем файла в байтах1048576\n",
      "Объем файла равен 1.0 Mb\n"
     ]
    }
   ],
   "source": [
    "# Задание 2.\n",
    "b=int(input('Объем файла в байтах'))\n",
    "Mb=b/(2**20)\n",
    "print ('Объем файла равен', Mb, 'Mb')"
   ]
  },
  {
   "cell_type": "code",
   "execution_count": 34,
   "metadata": {},
   "outputs": [
    {
     "name": "stdout",
     "output_type": "stream",
     "text": [
      "Введите номер месяца рождения1\n",
      "Введите день рождения16\n",
      "Козерог\n"
     ]
    }
   ],
   "source": [
    "# Задание 3.\n",
    "m=int(input('Введите номер месяца рождения'))\n",
    "d=int(input('Введите день рождения'))\n",
    "if 12>=m>=1 and 31>=d>=1:\n",
    "    if (m==3 and d>20) or (m==4 and 20>=d>=1):\n",
    "        print('Овен')\n",
    "    elif (m==4 and d>20) or (m==5 and 20>=d>=1):\n",
    "        print('Телец')\n",
    "    elif (m==5 and d>20) or (m==6 and 20>=d>=1):\n",
    "        print('Близнецы')\n",
    "    elif (m==6 and d>20) or (m==7 and 20>=d>=1):\n",
    "        print('Рак')\n",
    "    elif (m==7 and d>20) or (m==8 and 20>=d>=1):\n",
    "        print('Лев')\n",
    "    elif (m==8 and d>20) or (m==9 and 20>=d>=1):\n",
    "        print('Дева')\n",
    "    elif (m==9 and d>20) or (m==10 and 20>=d>=1):\n",
    "        print('Весы')\n",
    "    elif (m==10 and d>20) or (m==11 and 20>=d>=1):\n",
    "        print('Скорпион')\n",
    "    elif (m==11 and d>20) or (m==12 and 20>=d>=1):\n",
    "        print('Стрелец')\n",
    "    elif (m==12 and d>20) or (m==1 and 20>=d>=1):\n",
    "        print('Козерог')\n",
    "    elif (m==1 and d>20) or (m==2 and 20>=d>=1):\n",
    "        print('Водолей')\n",
    "    elif (m==2 and d>20) or (m==3 and 20>=d>=1):\n",
    "        print('Рыбы')   \n",
    "else:\n",
    "    print ('Укажите корректную дату рождения')\n"
   ]
  },
  {
   "cell_type": "code",
   "execution_count": 37,
   "metadata": {},
   "outputs": [
    {
     "name": "stdout",
     "output_type": "stream",
     "text": [
      "Введите вашу ЗП в месяц50000\n",
      "Введите сколько % от ЗП уходит на ипотеку50\n",
      "Введите сколько % от ЗП уходит на жизнь20\n",
      "Введите количество премий в год1\n",
      "На ипотеку потрачено: 300000.0 рублей\n",
      "Отложено: 205000.0 рублей\n"
     ]
    }
   ],
   "source": [
    "# Задание 4.\n",
    "\n",
    "zp=int(input('Введите вашу ЗП в месяц'))\n",
    "ip=int(input('Введите сколько % от ЗП уходит на ипотеку'))\n",
    "zh=int(input('Введите сколько % от ЗП уходит на жизнь'))\n",
    "pr=int(input('Введите количество премий в год'))\n",
    "if ip<100 and zh<100:\n",
    "    na_ip=ip*zp/100*12\n",
    "    nakop=zp*12-na_ip-zh*zp/100*12+pr*zp/2\n",
    "print('На ипотеку потрачено:', na_ip, 'рублей')\n",
    "print('Отложено:', nakop, 'рублей')"
   ]
  }
 ],
 "metadata": {
  "kernelspec": {
   "display_name": "Python 3",
   "language": "python",
   "name": "python3"
  },
  "language_info": {
   "codemirror_mode": {
    "name": "ipython",
    "version": 3
   },
   "file_extension": ".py",
   "mimetype": "text/x-python",
   "name": "python",
   "nbconvert_exporter": "python",
   "pygments_lexer": "ipython3",
   "version": "3.7.6"
  }
 },
 "nbformat": 4,
 "nbformat_minor": 4
}
