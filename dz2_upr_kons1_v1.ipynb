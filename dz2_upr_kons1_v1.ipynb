{
 "cells": [
  {
   "cell_type": "code",
   "execution_count": 12,
   "metadata": {},
   "outputs": [
    {
     "name": "stdout",
     "output_type": "stream",
     "text": [
      "Введите слово: лвиыолвр\n",
      "ыо\n"
     ]
    }
   ],
   "source": [
    "# Задача 1\n",
    "slovo = str(input('Введите слово: '))\n",
    "symb = len(slovo)\n",
    "if symb % 2 == 1:\n",
    "    a = symb // 2\n",
    "    print(slovo[a])\n",
    "else:\n",
    "    b = symb // 2 - 1\n",
    "    c = b + 2\n",
    "    print(slovo[b:c])"
   ]
  },
  {
   "cell_type": "code",
   "execution_count": 14,
   "metadata": {},
   "outputs": [
    {
     "name": "stdout",
     "output_type": "stream",
     "text": [
      "Alex and Emma\n",
      "Arthur and Kate\n",
      "John and Kira\n",
      "Peter and Liza\n",
      "Richard and Trisha\n"
     ]
    }
   ],
   "source": [
    "# Задача 2\n",
    "boys=['Peter', 'Alex', 'John', 'Arthur', 'Richard']\n",
    "girls=['Kate', 'Liza', 'Kira', 'Emma', 'Trisha']\n",
    "if len(boys)==len(girls):   \n",
    "    boys.sort()    \n",
    "    girls.sort()    \n",
    "    match=zip(boys,girls)   \n",
    "    mlist=list(match)  \n",
    "    for b,g in mlist:      \n",
    "        print(b, 'and', g)\n",
    "else:\n",
    "    print('FOREVER ALONE')\n",
    "\n"
   ]
  },
  {
   "cell_type": "code",
   "execution_count": 4,
   "metadata": {},
   "outputs": [
    {
     "name": "stdout",
     "output_type": "stream",
     "text": [
      "The average temperature in  Thailand is 23.0\n",
      "The average temperature in  Germany is 13.0\n",
      "The average temperature in  Russia is 3.0\n",
      "The average temperature in  Poland is 11.0\n"
     ]
    }
   ],
   "source": [
    "# Задача 3\n",
    "countries_temperature = [\n",
    " ['Thailand', [75.2, 77, 78.8, 73.4, 68, 75.2, 77]],\n",
    " ['Germany', [57.2, 55.4, 59, 59, 53.6, 55.4, 57.2]],\n",
    " ['Russia', [35.6, 37.4, 39.2, 41, 42.8, 39.2, 35.6]],\n",
    " ['Poland', [50, 50, 53.6, 57.2, 55.4, 55.4, 51.8]],\n",
    "]\n",
    "summa=[0 for i in range(len(countries_temperature))]\n",
    "for j in range(len(countries_temperature)):\n",
    "    summa[j]=sum((countries_temperature[j][1]))\n",
    "    summa[j]=summa[j] / len((countries_temperature[j][1]))\n",
    "    summa[j]=(summa[j] - 32) * 5 // 9\n",
    "    print('The average temperature in ',countries_temperature[j][0], 'is', summa[j]) "
   ]
  },
  {
   "cell_type": "code",
   "execution_count": 10,
   "metadata": {},
   "outputs": [
    {
     "name": "stdout",
     "output_type": "stream",
     "text": [
      "['3', '4', '1', '13', '7', '4', '10', '19', '4', '8', '9', '11']\n",
      "<function sum_visit at 0x0000017CFCC25288>\n"
     ]
    }
   ],
   "source": [
    "# Задача 4\n",
    "stream = [\n",
    "'2018-01-01,user1,3',\n",
    "'2018-01-07,user1,4',\n",
    "'2018-03-29,user1,1',\n",
    "'2018-04-04,user1,13',\n",
    "'2018-01-05,user2,7',\n",
    "'2018-06-14,user3,4',\n",
    "'2018-07-02,user3,10',\n",
    "'2018-03-21,user4,19',\n",
    "'2018-03-22,user4,4',\n",
    "'2018-04-22,user4,8',\n",
    "'2018-05-03,user4,9',\n",
    "'2018-05-11,user4,11'\n",
    "]\n",
    "stream_split=list()\n",
    "stream_visit=list()\n",
    "for i in stream:  \n",
    "    g=i.split(',')  \n",
    "    stream_split.append(g)\n",
    "for j in range(len(stream_split)):     \n",
    "    stream_visit.append(stream_split[j][2])\n",
    "print(stream_visit)\n",
    "def sum_visit(stream_visit):\n",
    "    theSum = 0\n",
    "    for i in stream_visit:   \n",
    "        theSum = theSum + i\n",
    "        return theSum\n",
    "print(sum_visit) # После выполнения данного шага выходит строчка <fuction sum_visit at 0x0000017CFCC25288>, \n",
    "                 # не понятно, как вывести результат его выполнения"
   ]
  },
  {
   "cell_type": "code",
   "execution_count": 23,
   "metadata": {},
   "outputs": [
    {
     "name": "stdout",
     "output_type": "stream",
     "text": [
      "Введите дату: 2018-01-02\n",
      "Введите название компании: google\n",
      "574\n",
      "Данные не найдены\n"
     ]
    }
   ],
   "source": [
    "# Задача 5\n",
    "stats = [\n",
    "    ['2018-01-01', 'google', 25],\n",
    "    ['2018-01-01', 'yandex', 65],\n",
    "    ['2018-01-01', 'market', 89],\n",
    "    ['2018-01-02', 'google', 574],\n",
    "    ['2018-01-02', 'yandex', 249],\n",
    "    ['2018-01-02', 'market', 994],\n",
    "    ['2018-01-03', 'google', 1843],\n",
    "    ['2018-01-03', 'yandex', 1327],\n",
    "    ['2018-01-03', 'market', 1764],\n",
    "]\n",
    "date = input('Введите дату: ')\n",
    "company = input('Введите название компании: ')\n",
    "for i in stats:\n",
    "    if (date == i[0]) and (company == i[1]):\n",
    "        print(i[2])\n",
    "else:\n",
    "    print('Данные не найдены') # Не понятно, почему выводится этот Принт в любом случае.\n",
    "    "
   ]
  },
  {
   "cell_type": "code",
   "execution_count": 11,
   "metadata": {},
   "outputs": [
    {
     "name": "stdout",
     "output_type": "stream",
     "text": [
      "103\n"
     ]
    }
   ],
   "source": [
    "# Задача 6\n",
    "data = [\n",
    "[13, 25, 23, 34],\n",
    "[45, 32, 44, 47],\n",
    "[12, 33, 23, 95],\n",
    "[13, 53, 34, 35]\n",
    "]\n",
    "n=len(data)\n",
    "sum_diagonal = sum(data[i][i] for i in range(n))\n",
    "print(sum_diagonal)"
   ]
  }
 ],
 "metadata": {
  "kernelspec": {
   "display_name": "Python 3",
   "language": "python",
   "name": "python3"
  },
  "language_info": {
   "codemirror_mode": {
    "name": "ipython",
    "version": 3
   },
   "file_extension": ".py",
   "mimetype": "text/x-python",
   "name": "python",
   "nbconvert_exporter": "python",
   "pygments_lexer": "ipython3",
   "version": "3.7.6"
  }
 },
 "nbformat": 4,
 "nbformat_minor": 4
}
