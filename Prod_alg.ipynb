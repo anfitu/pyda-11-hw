{
 "cells": [
  {
   "cell_type": "code",
   "execution_count": 1,
   "metadata": {},
   "outputs": [],
   "source": [
    "import numpy as np"
   ]
  },
  {
   "cell_type": "code",
   "execution_count": 27,
   "metadata": {},
   "outputs": [
    {
     "name": "stdout",
     "output_type": "stream",
     "text": [
      "Ортогональная диагональная матрица а: \n",
      " [[-1  0  0]\n",
      " [ 0 -1  0]\n",
      " [ 0  0 -1]]\n",
      "Ее транспонированная матрица: \n",
      " [[-1  0  0]\n",
      " [ 0 -1  0]\n",
      " [ 0  0 -1]]\n",
      "Проверка ортогональности: \n",
      " [[1 0 0]\n",
      " [0 1 0]\n",
      " [0 0 1]]\n"
     ]
    }
   ],
   "source": [
    "a = np.array([[-1, 0 , 0],\n",
    "            [0, -1, 0],\n",
    "            [0, 0, -1]])\n",
    "print('Ортогональная диагональная матрица а: \\n', a)\n",
    "a_ = a.transpose()\n",
    "print('Ее транспонированная матрица: \\n', a_)\n",
    "pro = a @ a_\n",
    "print('Проверка ортогональности: \\n', pro)"
   ]
  },
  {
   "cell_type": "code",
   "execution_count": 37,
   "metadata": {},
   "outputs": [
    {
     "name": "stdout",
     "output_type": "stream",
     "text": [
      "[[1 0 0]\n",
      " [0 1 0]\n",
      " [0 0 1]]\n"
     ]
    },
    {
     "data": {
      "text/plain": [
       "array([[1, 0, 0],\n",
       "       [0, 1, 0],\n",
       "       [0, 0, 1]])"
      ]
     },
     "execution_count": 37,
     "metadata": {},
     "output_type": "execute_result"
    }
   ],
   "source": [
    "vt = np.array([[1, 0, 0],\n",
    "               [0, 1, 0],\n",
    "               [0, 0, 1]]) # Единичная матрица является одновременно нижнетреугольной и верхнетреугольной.\n",
    "\n",
    "vtt = vt.transpose()\n",
    "print (vtt)\n",
    "vt @ vtt"
   ]
  },
  {
   "cell_type": "code",
   "execution_count": 28,
   "metadata": {},
   "outputs": [
    {
     "name": "stdout",
     "output_type": "stream",
     "text": [
      "Матрица, определитель которой равен 1: \n",
      " [[1 1 1]\n",
      " [1 2 1]\n",
      " [1 1 2]]\n",
      "Определить матрицы:  1.0\n"
     ]
    }
   ],
   "source": [
    "d = np. array([[1, 1, 1],\n",
    "               [1, 2, 1],\n",
    "               [1, 1, 2]])\n",
    "print('Матрица, определитель которой равен 1: \\n', d)\n",
    "det = np.linalg.det(d)\n",
    "print('Определить матрицы: ', det)"
   ]
  },
  {
   "cell_type": "code",
   "execution_count": 43,
   "metadata": {},
   "outputs": [
    {
     "name": "stdout",
     "output_type": "stream",
     "text": [
      "[[2 2]\n",
      " [1 3]]\n"
     ]
    },
    {
     "data": {
      "text/plain": [
       "array([[4],\n",
       "       [4]])"
      ]
     },
     "execution_count": 43,
     "metadata": {},
     "output_type": "execute_result"
    }
   ],
   "source": [
    "m = np.array([[2, 2],\n",
    "              [1, 3]])\n",
    "print(m)\n",
    "\n",
    "# Характеристическое уравнение: q^2 - 5q + 4 = 0, корни которого: 4 и 1 (т.е. собственные значения)\n",
    "\n",
    "# при q = 4: -2x + 2y = 0; x - y = 0\n",
    "# при q = 1: x + 2y = 0, нет решений.\n",
    "\n",
    "v = ([[1], \n",
    "      [1]])  # Собственный вектор\n",
    "m @ v"
   ]
  }
 ],
 "metadata": {
  "kernelspec": {
   "display_name": "Python 3",
   "language": "python",
   "name": "python3"
  },
  "language_info": {
   "codemirror_mode": {
    "name": "ipython",
    "version": 3
   },
   "file_extension": ".py",
   "mimetype": "text/x-python",
   "name": "python",
   "nbconvert_exporter": "python",
   "pygments_lexer": "ipython3",
   "version": "3.7.6"
  }
 },
 "nbformat": 4,
 "nbformat_minor": 4
}
