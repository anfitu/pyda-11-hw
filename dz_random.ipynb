{
 "cells": [
  {
   "cell_type": "code",
   "execution_count": 1,
   "metadata": {},
   "outputs": [],
   "source": [
    "import numpy as np"
   ]
  },
  {
   "cell_type": "code",
   "execution_count": 2,
   "metadata": {},
   "outputs": [
    {
     "name": "stdout",
     "output_type": "stream",
     "text": [
      "Ты просрал:  1000000\n",
      "Ты вернул себе:  787632\n",
      "Средний проигрыш за одну игру: 0.212368\n"
     ]
    }
   ],
   "source": [
    "trials = 1000000    # Количество попыток\n",
    "my_win_money = 0\n",
    "my_lose_money = 0\n",
    "\n",
    "for i in range(trials):\n",
    "    number = np.random.randint(0, 1000)    # Случайное количество очков от 0 до 999\n",
    "    my_lose_money +=1\n",
    "    if number % 100 == 0:\n",
    "        my_win_money += 2\n",
    "    elif number % 10 == 0:\n",
    "        my_win_money += 1\n",
    "    elif number == 111:\n",
    "        my_win_money += 10\n",
    "    elif number == 333:\n",
    "        my_win_money += 15\n",
    "    elif number == 555:\n",
    "        my_win_money += 50\n",
    "    elif number == 999:\n",
    "        my_win_money += 100\n",
    "    elif number == 777:\n",
    "        my_win_money += 200\n",
    "    elif number % 100 == 77:\n",
    "        my_win_money += 5 \n",
    "    elif number % 10 == 7:\n",
    "        my_win_money += 3\n",
    "    \n",
    "        \n",
    "print('Ты просрал: ', my_lose_money)\n",
    "print('Ты вернул себе: ', my_win_money)\n",
    "print('Средний проигрыш за одну игру:', (my_lose_money - my_win_money) / my_lose_money)\n"
   ]
  }
 ],
 "metadata": {
  "kernelspec": {
   "display_name": "Python 3",
   "language": "python",
   "name": "python3"
  },
  "language_info": {
   "codemirror_mode": {
    "name": "ipython",
    "version": 3
   },
   "file_extension": ".py",
   "mimetype": "text/x-python",
   "name": "python",
   "nbconvert_exporter": "python",
   "pygments_lexer": "ipython3",
   "version": "3.7.6"
  }
 },
 "nbformat": 4,
 "nbformat_minor": 4
}
