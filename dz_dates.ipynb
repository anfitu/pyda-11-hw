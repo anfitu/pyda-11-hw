{
 "cells": [
  {
   "cell_type": "code",
   "execution_count": 17,
   "metadata": {},
   "outputs": [
    {
     "name": "stdout",
     "output_type": "stream",
     "text": [
      "2002-10-02 00:00:00 День недели:  3\n",
      "2013-10-11 00:00:00 День недели:  5\n",
      "1977-08-18 00:00:00 День недели:  4\n"
     ]
    }
   ],
   "source": [
    "# Задание 1\n",
    "from datetime import datetime\n",
    "Mos_time = 'Wednesday, October 2, 2002'\n",
    "Guardian = 'Friday, 11.10.13'\n",
    "Daily_News = 'Thursday, 18 August 1977'\n",
    "\n",
    "d1 = datetime.strptime(Mos_time, '%A, %B %d, %Y')\n",
    "d2 = datetime.strptime(Guardian, '%A, %d.%m.%y')\n",
    "d3 = datetime.strptime(Daily_News, '%A, %d %B %Y')\n",
    "print( d1, 'День недели: ', d1.weekday() + 1 )\n",
    "print( d2, 'День недели: ', d2.weekday() + 1 )\n",
    "print( d3, 'День недели: ', d3.weekday() + 1 )"
   ]
  },
  {
   "cell_type": "code",
   "execution_count": 7,
   "metadata": {},
   "outputs": [
    {
     "name": "stdout",
     "output_type": "stream",
     "text": [
      "2018-04-02 00:00:00 Дата корректна\n",
      "['2018-02-29'] Некорректная дата\n",
      "конец\n"
     ]
    }
   ],
   "source": [
    "# Задание 2\n",
    "\n",
    "\n",
    "from datetime import datetime\n",
    "\n",
    "stream = ['2018-04-02', '2018-02-29', '2018-19-02']    # Не понимаю, почему код не выводит результат обработки третьей даты\n",
    "\n",
    "try:\n",
    "    for date in stream:\n",
    "        d = datetime.strptime(date, '%Y-%m-%d')\n",
    "        print (d, 'Дата корректна')\n",
    "except ValueError:\n",
    "    print([date], 'Некорректная дата')\n",
    "finally:\n",
    "    print('конец')\n",
    "    \n",
    "    \n"
   ]
  }
 ],
 "metadata": {
  "kernelspec": {
   "display_name": "Python 3",
   "language": "python",
   "name": "python3"
  },
  "language_info": {
   "codemirror_mode": {
    "name": "ipython",
    "version": 3
   },
   "file_extension": ".py",
   "mimetype": "text/x-python",
   "name": "python",
   "nbconvert_exporter": "python",
   "pygments_lexer": "ipython3",
   "version": "3.7.6"
  }
 },
 "nbformat": 4,
 "nbformat_minor": 4
}
